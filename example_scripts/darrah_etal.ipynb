{
 "cells": [
  {
   "cell_type": "code",
   "execution_count": 2,
   "id": "51587f9b-e33e-412c-bc8a-4dea888449bb",
   "metadata": {},
   "outputs": [],
   "source": [
    "import numpy as np\n",
    "import pandas as pd\n",
    "\n",
    "import sys\n",
    "from os.path import join as opj\n",
    "\n",
    "import seaborn as sns\n",
    "import matplotlib as mpl\n",
    "import matplotlib.pyplot as plt\n",
    "\n",
    "from fg_shared import _fg_data"
   ]
  },
  {
   "cell_type": "code",
   "execution_count": null,
   "id": "f61ba671-22a5-4b8a-b86a-381f02b98d6b",
   "metadata": {},
   "outputs": [],
   "source": [
    "bigdata_folder = opj(_fg_data, 'SEATRAC/TB_hackday_2023/bigdata')\n",
    "data_folder = opj(_fg_data, 'SEATRAC/TB_hackday_2023/seatrac-hackday-2023/darrah_etal')\n",
    "\n",
    "\"\"\"Meta-data file contains cell-level data for Week 13 and Week 25\"\"\"\n",
    "md = pd.read_csv(opj(data_folder, 'updated_alexandria_metadata.txt'), sep='\\t', low_memory=False)\n",
    "md = md.iloc[1:]\n",
    "\n",
    "\"\"\"Clustering is provided separately for the Wk13 and Wk25 data\"\"\"\n",
    "clust = pd.read_csv(opj(data_folder, 'week13_clusters.txt'), sep='\\t')\n",
    "clust = clust.iloc[1:]\n",
    "clust = clust.assign(X_13=clust['X'].astype(float),\n",
    "                     Y_13=clust['Y'].astype(float))\n",
    "\n",
    "md = pd.merge(md, clust[['NAME', 'X_13', 'Y_13']], on='NAME', how='left')\n",
    "\n",
    "clust = pd.read_csv(opj(data_folder, 'week25_clusters.txt'), sep='\\t')\n",
    "clust = clust.iloc[1:]\n",
    "clust = clust.assign(X_25=clust['X'].astype(float),\n",
    "                     Y_25=clust['Y'].astype(float))\n",
    "\n",
    "\"\"\"Merging here will create NA missing values for the cells that were not clustered amd thats expected\n",
    "(e.g., week25 clusters do not include week13 cells and the meta-data contains both cells)\"\"\"\n",
    "md = pd.merge(md, clust[['NAME', 'X_25', 'Y_25']], on='NAME', how='left')\n",
    "\n",
    "cts13 = pd.read_csv(opj(bigdata_folder, 'darrah_Week25.Filtered.cells.txt'), sep='\\t')\n",
    "# cts25 = pd.read_csv(opj(data_folder, 'Week25.Filtered.cells.txt.gz'), sep='\\t')"
   ]
  },
  {
   "cell_type": "code",
   "execution_count": null,
   "id": "e389b313-a855-4450-87d7-f8f3ac76ab7e",
   "metadata": {},
   "outputs": [],
   "source": [
    "tot = cts13.sum(axis=1)\n",
    "sorti = np.argsort(tot.values)[::-1]\n",
    "\n",
    "plot_df = cts13.iloc[sorti[:20], :]\n",
    "plot_df = plot_df.stack().reset_index().rename({'level_1':'cellid', 0:'value'}, axis=1)\n",
    "sns.boxplot(y='GENE', x='value', data=plotgene = 'IFNG'\n",
    "md = md.assign(gex=cts13.loc[gene].values)\n",
    "\n",
    "sns.histplot(md.loc[md['gex'] > 0 , 'gex'], cumulative=True)\n",
    "plt.title('Cumulative distribution of cells with IFNG > 0')_df)\n",
    "plt.title('Expression of top 20 genes')"
   ]
  },
  {
   "cell_type": "code",
   "execution_count": null,
   "id": "36c5218d-cb44-4804-8a46-0463813c8bb1",
   "metadata": {},
   "outputs": [],
   "source": [
    "ss = md.sample(n=1000)\n",
    "sns.scatterplot(x='all_X', y='all_Y', hue='CellTypeAnnotations', data=ss, palette='tab10')\n",
    "plt.legend(bbox_to_anchor=(1, 1))\n",
    "plt.scatter(x='all_X', y='all_Y', c='k', s=10, data=md.loc[md['gex'] > 0])"
   ]
  }
 ],
 "metadata": {
  "kernelspec": {
   "display_name": "Python 3 (ipykernel)",
   "language": "python",
   "name": "python3"
  },
  "language_info": {
   "codemirror_mode": {
    "name": "ipython",
    "version": 3
   },
   "file_extension": ".py",
   "mimetype": "text/x-python",
   "name": "python",
   "nbconvert_exporter": "python",
   "pygments_lexer": "ipython3",
   "version": "3.7.12"
  }
 },
 "nbformat": 4,
 "nbformat_minor": 5
}

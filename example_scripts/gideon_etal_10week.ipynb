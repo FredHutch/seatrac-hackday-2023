{
 "cells": [
  {
   "cell_type": "code",
   "execution_count": 2,
   "id": "2983e368-eb93-4f6b-8f0c-f7790d84e00e",
   "metadata": {},
   "outputs": [],
   "source": [
    "import numpy as np\n",
    "import scanpy as sc\n",
    "import pandas as pd\n",
    "\n",
    "import sys\n",
    "from os.path import join as opj\n",
    "\n",
    "import seaborn as sns\n",
    "import matplotlib as mpl\n",
    "import matplotlib.pyplot as plt\n",
    "\n",
    "from fg_shared import _fg_data"
   ]
  },
  {
   "cell_type": "code",
   "execution_count": null,
   "id": "8b5ba875-4760-4c4e-90bc-02ed9ee51959",
   "metadata": {},
   "outputs": [],
   "source": [
    "wk10_folder = opj(_fg_data, 'SEATRAC/TB_hackday_2023/data/gideon_etal/10week')\n",
    "\n",
    "\"\"\"Load the meta-data, cell barcodes, features (i.e., genes) and gene expression values\"\"\"\n",
    "md = pd.read_csv(opj(wk10_folder, 'Updated10wk_alexandria_structured_metadata10.txt'), sep='\\t', low_memory=False)\n",
    "md = md.iloc[1:]\n",
    "\n",
    "clust = pd.read_csv(opj(wk10_folder, 'all_cells_umap.txt'), sep='\\t')\n",
    "clust = clust.iloc[1:]\n",
    "clust = clust.assign(all_X=clust['X'].astype(float),\n",
    "                     all_Y=clust['Y'].astype(float))\n",
    "\n",
    "tclust = pd.read_csv(opj(wk10_folder, 'T_Cells_UMAP.txt'), sep='\\t')\n",
    "tclust = tclust.iloc[1:]\n",
    "tclust = tclust.assign(T_X=tclust['X'].astype(float),\n",
    "                       T_Y=tclust['Y'].astype(float))\n",
    "\n",
    "md = pd.merge(md, clust, on='NAME', how='left')\n",
    "md = pd.merge(md, tclust, on='NAME', how='left')\n",
    "\n",
    "\n",
    "\"\"\"Load raw counts (shape is [n_genes x n_cells] with GENES as first column, set here as index)\"\"\"\n",
    "# cts1 = pd.read_csv(opj(wk10_folder, 'counts_pt_1.csv.gz')).set_index('GENE')\n",
    "# cts2 = pd.read_csv(opj(wk10_folder, 'counts_pt_2.csv.gz')).set_index('GENE')\n",
    "\n",
    "\"\"\"Load normalized counts\"\"\"\n",
    "cts1 = pd.read_csv(opj(wk10_folder, 'lognormalized_pt_1.csv.gz')).set_index('GENE')\n",
    "cts2 = pd.read_csv(opj(wk10_folder, 'lognormalized_pt_2.csv.gz')).set_index('GENE')\n",
    "cts = pd.concat((cts1, cts2), axis=1)"
   ]
  },
  {
   "cell_type": "code",
   "execution_count": null,
   "id": "e1ca7eb0-7680-47db-b4c2-776015a787d8",
   "metadata": {},
   "outputs": [],
   "source": [
    "tot = cts.sum(axis=1)\n",
    "sorti = np.argsort(tot.values)[::-1]\n",
    "\n",
    "plot_df = cts.iloc[sorti[:20], :]\n",
    "plot_df = plot_df.stack().reset_index().rename({'level_1':'cellid', 0:'value'}, axis=1)\n",
    "sns.boxplot(y='GENE', x='value', data=plot_df)\n",
    "plt.title('Expression of top 20 genes')"
   ]
  },
  {
   "cell_type": "code",
   "execution_count": null,
   "id": "eb6b639e-8a2e-4bc4-b0b2-dd96b9e17348",
   "metadata": {},
   "outputs": [],
   "source": [
    "gene = 'IFNG'\n",
    "md = md.assign(gex=cts.loc[gene].values)\n",
    "\n",
    "sns.histplot(md.loc[md['gex'] > 0 , 'gex'], cumulative=True)\n",
    "plt.title('Cumulative distribution of cells with IFNG > 0')"
   ]
  },
  {
   "cell_type": "code",
   "execution_count": null,
   "id": "c0b4ac06-14a7-4bdb-9db8-b580becb00aa",
   "metadata": {},
   "outputs": [],
   "source": [
    "ss = md.sample(n=1000)\n",
    "sns.scatterplot(x='all_X', y='all_Y', hue='CellTypeAnnotations', data=ss, palette='tab10')\n",
    "plt.legend(bbox_to_anchor=(1, 1))\n",
    "plt.scatter(x='all_X', y='all_Y', c='k', s=10, data=md.loc[md['gex'] > 0])"
   ]
  }
 ],
 "metadata": {
  "kernelspec": {
   "display_name": "Python 3 (ipykernel)",
   "language": "python",
   "name": "python3"
  },
  "language_info": {
   "codemirror_mode": {
    "name": "ipython",
    "version": 3
   },
   "file_extension": ".py",
   "mimetype": "text/x-python",
   "name": "python",
   "nbconvert_exporter": "python",
   "pygments_lexer": "ipython3",
   "version": "3.7.12"
  }
 },
 "nbformat": 4,
 "nbformat_minor": 5
}

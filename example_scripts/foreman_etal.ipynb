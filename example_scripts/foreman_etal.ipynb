{
 "cells": [
  {
   "cell_type": "code",
   "execution_count": 14,
   "id": "ad2ad793-3610-4b37-8122-62aef52f4ff8",
   "metadata": {},
   "outputs": [],
   "source": [
    "import pandas as pd\n",
    "from os.path import join as opj\n",
    "import numpy as np\n",
    "\n",
    "import seaborn as sns\n",
    "import matplotlib as mpl\n",
    "import matplotlib.pyplot as plt\n",
    "\n",
    "from fg_shared import _fg_data"
   ]
  },
  {
   "cell_type": "code",
   "execution_count": 25,
   "id": "52d1928b-ddc5-4f50-a0d3-6dcb44d401d0",
   "metadata": {},
   "outputs": [],
   "source": [
    "data_fn = opj(_fg_data, 'SEATRAC/TB_hackday_2023/data/foreman_etal/GSE227653_TPM_all.csv.gz')\n",
    "meta_fn = opj(_fg_data, 'SEATRAC/TB_hackday_2023/data/foreman_etal/GSE227653_family.soft.csv')\n",
    "\n",
    "meta = pd.read_csv(meta_fn)\n",
    "cts = pd.read_csv(data_fn)\n",
    "\n",
    "keep_cols = ['biosample', 'entrez_gene', 'gene_name_clc', 'Expression_value',\n",
    "                  'TPM', 'RPKM', 'Exons', 'Gene_length', 'GeneID', 'Unique_gene_reads',\n",
    "                  'Total_gene_reads', 'Transcripts_annotated', 'Detected_transcripts',\n",
    "                  'Exon_length', 'Unique_exon_reads', 'Total_exon_reads']"
   ]
  },
  {
   "cell_type": "code",
   "execution_count": 27,
   "id": "178dc71e-f949-4b35-bcd7-aa985598404a",
   "metadata": {},
   "outputs": [
    {
     "name": "stdout",
     "output_type": "stream",
     "text": [
      "Missing meta-data:  []\n"
     ]
    }
   ],
   "source": [
    "print('Missing meta-data: ', [bs for bs in cts['biosample'].unique() if not bs in meta['biosample'].values])"
   ]
  },
  {
   "cell_type": "code",
   "execution_count": 28,
   "id": "dea41a6e-9561-48fb-9f89-0c34c464daf9",
   "metadata": {},
   "outputs": [],
   "source": [
    "cts = pd.merge(cts[keep_cols], meta, how='left', on='biosample')"
   ]
  },
  {
   "cell_type": "code",
   "execution_count": 29,
   "id": "dbefc252-baef-458c-9b05-35c2a734591a",
   "metadata": {},
   "outputs": [
    {
     "data": {
      "text/html": [
       "<div>\n",
       "<style scoped>\n",
       "    .dataframe tbody tr th:only-of-type {\n",
       "        vertical-align: middle;\n",
       "    }\n",
       "\n",
       "    .dataframe tbody tr th {\n",
       "        vertical-align: top;\n",
       "    }\n",
       "\n",
       "    .dataframe thead th {\n",
       "        text-align: right;\n",
       "    }\n",
       "</style>\n",
       "<table border=\"1\" class=\"dataframe\">\n",
       "  <thead>\n",
       "    <tr style=\"text-align: right;\">\n",
       "      <th>cell type</th>\n",
       "      <th>CD4 granuloma T cell</th>\n",
       "      <th>CD8 granuloma T cell</th>\n",
       "    </tr>\n",
       "    <tr>\n",
       "      <th>gene_name_clc</th>\n",
       "      <th></th>\n",
       "      <th></th>\n",
       "    </tr>\n",
       "  </thead>\n",
       "  <tbody>\n",
       "    <tr>\n",
       "      <th>TMSB4X</th>\n",
       "      <td>39064.602288</td>\n",
       "      <td>40243.645444</td>\n",
       "    </tr>\n",
       "    <tr>\n",
       "      <th>B2M</th>\n",
       "      <td>35707.925974</td>\n",
       "      <td>39849.508423</td>\n",
       "    </tr>\n",
       "    <tr>\n",
       "      <th>LOC100428865</th>\n",
       "      <td>16957.127977</td>\n",
       "      <td>14862.180874</td>\n",
       "    </tr>\n",
       "    <tr>\n",
       "      <th>ACTB</th>\n",
       "      <td>13730.308937</td>\n",
       "      <td>12388.851575</td>\n",
       "    </tr>\n",
       "    <tr>\n",
       "      <th>LOC100499503</th>\n",
       "      <td>7563.260004</td>\n",
       "      <td>10392.125002</td>\n",
       "    </tr>\n",
       "    <tr>\n",
       "      <th>CD52</th>\n",
       "      <td>6942.708946</td>\n",
       "      <td>7412.967880</td>\n",
       "    </tr>\n",
       "    <tr>\n",
       "      <th>MAMU-A</th>\n",
       "      <td>6231.649363</td>\n",
       "      <td>7364.839797</td>\n",
       "    </tr>\n",
       "    <tr>\n",
       "      <th>IFITM1</th>\n",
       "      <td>8260.204194</td>\n",
       "      <td>5917.877318</td>\n",
       "    </tr>\n",
       "    <tr>\n",
       "      <th>GZMB</th>\n",
       "      <td>2133.522528</td>\n",
       "      <td>5744.277471</td>\n",
       "    </tr>\n",
       "    <tr>\n",
       "      <th>UBC</th>\n",
       "      <td>4728.065938</td>\n",
       "      <td>4520.408534</td>\n",
       "    </tr>\n",
       "    <tr>\n",
       "      <th>FTL</th>\n",
       "      <td>3490.747923</td>\n",
       "      <td>4299.808763</td>\n",
       "    </tr>\n",
       "    <tr>\n",
       "      <th>ARHGDIB</th>\n",
       "      <td>4390.931587</td>\n",
       "      <td>4106.150096</td>\n",
       "    </tr>\n",
       "    <tr>\n",
       "      <th>RPL23A</th>\n",
       "      <td>4477.782600</td>\n",
       "      <td>4063.387740</td>\n",
       "    </tr>\n",
       "    <tr>\n",
       "      <th>RPS18</th>\n",
       "      <td>3042.886307</td>\n",
       "      <td>3720.663267</td>\n",
       "    </tr>\n",
       "    <tr>\n",
       "      <th>GAPDH</th>\n",
       "      <td>5327.844696</td>\n",
       "      <td>3671.752231</td>\n",
       "    </tr>\n",
       "    <tr>\n",
       "      <th>MAMU-A3</th>\n",
       "      <td>2871.837020</td>\n",
       "      <td>3398.462660</td>\n",
       "    </tr>\n",
       "    <tr>\n",
       "      <th>TMSB10</th>\n",
       "      <td>4659.585499</td>\n",
       "      <td>3326.035179</td>\n",
       "    </tr>\n",
       "    <tr>\n",
       "      <th>UBB</th>\n",
       "      <td>2956.584597</td>\n",
       "      <td>3132.113811</td>\n",
       "    </tr>\n",
       "    <tr>\n",
       "      <th>LOC702809</th>\n",
       "      <td>2684.540746</td>\n",
       "      <td>3037.584203</td>\n",
       "    </tr>\n",
       "    <tr>\n",
       "      <th>FOS</th>\n",
       "      <td>2776.263151</td>\n",
       "      <td>2977.241501</td>\n",
       "    </tr>\n",
       "  </tbody>\n",
       "</table>\n",
       "</div>"
      ],
      "text/plain": [
       "cell type      CD4 granuloma T cell  CD8 granuloma T cell\n",
       "gene_name_clc                                            \n",
       "TMSB4X                 39064.602288          40243.645444\n",
       "B2M                    35707.925974          39849.508423\n",
       "LOC100428865           16957.127977          14862.180874\n",
       "ACTB                   13730.308937          12388.851575\n",
       "LOC100499503            7563.260004          10392.125002\n",
       "CD52                    6942.708946           7412.967880\n",
       "MAMU-A                  6231.649363           7364.839797\n",
       "IFITM1                  8260.204194           5917.877318\n",
       "GZMB                    2133.522528           5744.277471\n",
       "UBC                     4728.065938           4520.408534\n",
       "FTL                     3490.747923           4299.808763\n",
       "ARHGDIB                 4390.931587           4106.150096\n",
       "RPL23A                  4477.782600           4063.387740\n",
       "RPS18                   3042.886307           3720.663267\n",
       "GAPDH                   5327.844696           3671.752231\n",
       "MAMU-A3                 2871.837020           3398.462660\n",
       "TMSB10                  4659.585499           3326.035179\n",
       "UBB                     2956.584597           3132.113811\n",
       "LOC702809               2684.540746           3037.584203\n",
       "FOS                     2776.263151           2977.241501"
      ]
     },
     "execution_count": 29,
     "metadata": {},
     "output_type": "execute_result"
    }
   ],
   "source": [
    "cts.groupby(['gene_name_clc', 'cell type'])['TPM'].agg(np.median).unstack('cell type').sort_values(by='CD8 granuloma T cell', ascending=False).head(20)"
   ]
  },
  {
   "cell_type": "code",
   "execution_count": 9,
   "id": "31b3bf95-deea-4bd3-b5dc-0c4d1b99b441",
   "metadata": {},
   "outputs": [
    {
     "data": {
      "text/plain": [
       "<AxesSubplot:xlabel='cell type', ylabel='TPM'>"
      ]
     },
     "execution_count": 9,
     "metadata": {},
     "output_type": "execute_result"
    },
    {
     "data": {
      "image/png": "[encoded data removed]",
      "text/plain": [
       "<Figure size 432x288 with 1 Axes>"
      ]
     },
     "metadata": {
      "needs_background": "light"
     },
     "output_type": "display_data"
    }
   ],
   "source": [
    "sns.barplot(x='cell type', y='TPM', data=cts.loc[cts['gene_name_clc'] == 'IFNG'], facecolor='gray')\n",
    "sns.swarmplot(x='cell type', y='TPM', data=cts.loc[cts['gene_name_clc'] == 'IFNG'], dodge=True)"
   ]
  },
  {
   "cell_type": "code",
   "execution_count": 35,
   "id": "8578e864-7438-4fb4-b54d-32fa0b18cb49",
   "metadata": {},
   "outputs": [
    {
     "data": {
      "text/plain": [
       "<seaborn.axisgrid.JointGrid at 0x7f931d1e1c10>"
      ]
     },
     "execution_count": 35,
     "metadata": {},
     "output_type": "execute_result"
    },
    {
     "data": {
      "image/png": "[encoded data removed]",
      "text/plain": [
       "<Figure size 432x432 with 3 Axes>"
      ]
     },
     "metadata": {
      "needs_background": "light"
     },
     "output_type": "display_data"
    }
   ],
   "source": [
    "plot_df = cts.loc[cts['gene_name_clc'] == 'GZMB'].set_index(['subjid', 'granuloma', 'cell type'])['TPM'].unstack('cell type').dropna()\n",
    "\"\"\"Not all granulomas have CD4 and CD8 T cells sequenced\"\"\"\n",
    "plot_df = plot_df.dropna()\n",
    "\n",
    "sns.jointplot(x='CD8 granuloma T cell', y='CD4 granuloma T cell', data=plot_df, kind='reg')"
   ]
  }
 ],
 "metadata": {
  "kernelspec": {
   "display_name": "Python 3 (ipykernel)",
   "language": "python",
   "name": "python3"
  },
  "language_info": {
   "codemirror_mode": {
    "name": "ipython",
    "version": 3
   },
   "file_extension": ".py",
   "mimetype": "text/x-python",
   "name": "python",
   "nbconvert_exporter": "python",
   "pygments_lexer": "ipython3",
   "version": "3.7.12"
  }
 },
 "nbformat": 4,
 "nbformat_minor": 5
}
